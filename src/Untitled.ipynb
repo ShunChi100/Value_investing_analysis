{
 "cells": [
  {
   "cell_type": "markdown",
   "metadata": {},
   "source": [
    "# Data scraping from websites (public data)"
   ]
  },
  {
   "cell_type": "code",
   "execution_count": 1,
   "metadata": {
    "collapsed": true
   },
   "outputs": [],
   "source": [
    "import requests\n",
    "import pandas as pd\n",
    "import numpy as np\n",
    "import feather\n",
    "import time\n",
    "from IPython.core.interactiveshell import InteractiveShell\n",
    "InteractiveShell.ast_node_interactivity = \"all\""
   ]
  },
  {
   "cell_type": "code",
   "execution_count": null,
   "metadata": {
    "collapsed": true
   },
   "outputs": [],
   "source": [
    "# read all stock symbols for analysis\n",
    "\n",
    "feather.write_dataframe(tickers_TenBillion, \"../data/data_Ticker/tikers_TenBillion.feather\")"
   ]
  },
  {
   "cell_type": "markdown",
   "metadata": {},
   "source": [
    "### Download historical financial data from stockrow.com"
   ]
  },
  {
   "cell_type": "code",
   "execution_count": null,
   "metadata": {
    "collapsed": true
   },
   "outputs": [],
   "source": [
    "#https://stockrow.com/api/companies/AAPL/financials.xlsx?dimension=MRY&section=Balance%20Sheet\n",
    "#https://stockrow.com/api/companies/AAPL/financials.xlsx?dimension=MRY&section=Income%20Statement\n",
    "#https://stockrow.com/api/companies/AAPL/financials.xlsx?dimension=MRY&section=Cash%20Flow\n",
    "#https://stockrow.com/api/companies/AAPL/financials.xlsx?dimension=MRY&section=Metrics\n",
    "#https://stockrow.com/api/companies/AAPL/financials.xlsx?dimension=MRY&section=Growth\n",
    "\n",
    "## MRY -> Annual, MRQ -> Quarterly\n",
    "\n",
    "def download_financials(symbol, financial):\n",
    "    url_income = \"https://stockrow.com/api/companies/\"+symbol+\"/financials.xlsx?dimension=MRY&section=\"+financial\n",
    "    readdata = requests.get(url_income , allow_redirects = True)\n",
    "    file = open(\"../data/data_financials/\"+symbol+\"_\"+financial.split(\"%\")[0]+\".xlsx\", 'wb')\n",
    "    file.write(readdata.content)\n",
    "    file.close()"
   ]
  },
  {
   "cell_type": "code",
   "execution_count": null,
   "metadata": {
    "collapsed": true
   },
   "outputs": [],
   "source": [
    "# financial_list = [\"Income%20Statement\", \"Balance%20Sheet\", \"Cash%20Flow\", \"Metrics\", \"Growth\"]\n",
    "\n",
    "# for symbol in tickers_Billion.Symbol:\n",
    "#     for financial in financial_list:\n",
    "#         download_financials(symbol,financial)\n",
    "#         time.sleep(0.1)\n",
    "#     print(symbol) \n",
    "        "
   ]
  },
  {
   "cell_type": "markdown",
   "metadata": {},
   "source": [
    "### Obtain historical quotes from Yahoo Finance"
   ]
  },
  {
   "cell_type": "code",
   "execution_count": null,
   "metadata": {
    "collapsed": true
   },
   "outputs": [],
   "source": [
    "# in yahoo finance, a cookie/crumb pair need to be find.\n",
    "\n",
    "def get_yahoo_crumb_cookie():\n",
    "    \"\"\"Get Yahoo crumb cookie value.\"\"\"\n",
    "    res = requests.get('https://ca.finance.yahoo.com/quote/IBM/history?period1=1136102400&period2=1510992000&interval=1d&filter=history&frequency=1d')\n",
    "    yahoo_cookie = res.cookies['B']\n",
    "    yahoo_crumb = None\n",
    "    pattern = re.compile('.*\"CrumbStore\":\\{\"crumb\":\"(?P<crumb>[^\"]+)\"\\}')\n",
    "    for line in res.text.splitlines():\n",
    "        m = pattern.match(line)\n",
    "        if m is not None:\n",
    "            yahoo_crumb = m.groupdict()['crumb']\n",
    "    return yahoo_cookie, yahoo_crumb\n",
    "cookie_tuple = get_yahoo_crumb_cookie()\n",
    "\n",
    "def download_historyPrice(symbol):\n",
    "    \n",
    "    \n",
    "    url_price = \"https://query1.finance.yahoo.com/v7/finance/download/\"+symbol+\"?period1=1136102400&period2=1510992000&interval=1d&events=history&crumb=\"+cookie_tuple[1]\n",
    "    readdata = requests.get(url_price, allow_redirects = True, cookies={'B': cookie_tuple[0]})\n",
    "    file = open(\"../data/data_historyPrice/\"+symbol+\"_\"+\"historyPricefrom20060101to20171118.csv\", 'wb')\n",
    "    file.write(readdata.content)\n",
    "    file.close()"
   ]
  },
  {
   "cell_type": "code",
   "execution_count": null,
   "metadata": {
    "collapsed": true
   },
   "outputs": [],
   "source": [
    "# # get data for all symbols\n",
    "# for symbol in tickers_Billion.Symbol:\n",
    "#     download_historyPrice(symbol)\n",
    "#     time.sleep(0.01)\n",
    "#     print(symbol)"
   ]
  }
 ],
 "metadata": {
  "kernelspec": {
   "display_name": "Python 3",
   "language": "python",
   "name": "python3"
  },
  "language_info": {
   "codemirror_mode": {
    "name": "ipython",
    "version": 3
   },
   "file_extension": ".py",
   "mimetype": "text/x-python",
   "name": "python",
   "nbconvert_exporter": "python",
   "pygments_lexer": "ipython3",
   "version": "3.6.1"
  }
 },
 "nbformat": 4,
 "nbformat_minor": 2
}
