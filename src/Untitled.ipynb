{
 "cells": [
  {
   "cell_type": "code",
   "execution_count": 1,
   "metadata": {},
   "outputs": [],
   "source": [
    "import pandas as pd\n",
    "import numpy as np\n",
    "import matplotlib.pylab as plt\n",
    "import seaborn as sns"
   ]
  },
  {
   "cell_type": "code",
   "execution_count": 12,
   "metadata": {},
   "outputs": [
    {
     "data": {
      "text/html": [
       "<div>\n",
       "<style scoped>\n",
       "    .dataframe tbody tr th:only-of-type {\n",
       "        vertical-align: middle;\n",
       "    }\n",
       "\n",
       "    .dataframe tbody tr th {\n",
       "        vertical-align: top;\n",
       "    }\n",
       "\n",
       "    .dataframe thead th {\n",
       "        text-align: right;\n",
       "    }\n",
       "</style>\n",
       "<table border=\"1\" class=\"dataframe\">\n",
       "  <thead>\n",
       "    <tr style=\"text-align: right;\">\n",
       "      <th></th>\n",
       "      <th>Symbol</th>\n",
       "      <th>Name</th>\n",
       "      <th>MarketCap</th>\n",
       "      <th>Sector</th>\n",
       "      <th>Industry</th>\n",
       "      <th>Year</th>\n",
       "      <th>Date</th>\n",
       "      <th>Median_Quote</th>\n",
       "      <th>Median_Q_Growth</th>\n",
       "      <th>ROE</th>\n",
       "      <th>ROE_5Y</th>\n",
       "      <th>DEratio</th>\n",
       "      <th>DEratio_5Y</th>\n",
       "      <th>Profit_Margin</th>\n",
       "      <th>Profit_Margin_5Y</th>\n",
       "      <th>PEratio</th>\n",
       "      <th>Revenue_Growth</th>\n",
       "    </tr>\n",
       "  </thead>\n",
       "  <tbody>\n",
       "    <tr>\n",
       "      <th>0</th>\n",
       "      <td>ALXN</td>\n",
       "      <td>Alexion Pharmaceuticals, Inc.</td>\n",
       "      <td>2.586190e+10</td>\n",
       "      <td>Health Care</td>\n",
       "      <td>Major Pharmaceuticals</td>\n",
       "      <td>2016</td>\n",
       "      <td>2016-12-31</td>\n",
       "      <td>127.809998</td>\n",
       "      <td>-0.035013</td>\n",
       "      <td>0.045894</td>\n",
       "      <td>0.099552</td>\n",
       "      <td>0.3782</td>\n",
       "      <td>0.19940</td>\n",
       "      <td>0.129</td>\n",
       "      <td>0.1732</td>\n",
       "      <td>71.803370</td>\n",
       "      <td>0.1843</td>\n",
       "    </tr>\n",
       "    <tr>\n",
       "      <th>1</th>\n",
       "      <td>ALXN</td>\n",
       "      <td>Alexion Pharmaceuticals, Inc.</td>\n",
       "      <td>2.586190e+10</td>\n",
       "      <td>Health Care</td>\n",
       "      <td>Major Pharmaceuticals</td>\n",
       "      <td>2015</td>\n",
       "      <td>2015-12-31</td>\n",
       "      <td>132.429993</td>\n",
       "      <td>-0.345654</td>\n",
       "      <td>0.017436</td>\n",
       "      <td>0.121280</td>\n",
       "      <td>0.4324</td>\n",
       "      <td>0.12376</td>\n",
       "      <td>0.055</td>\n",
       "      <td>0.1922</td>\n",
       "      <td>194.749990</td>\n",
       "      <td>0.1656</td>\n",
       "    </tr>\n",
       "    <tr>\n",
       "      <th>2</th>\n",
       "      <td>ALXN</td>\n",
       "      <td>Alexion Pharmaceuticals, Inc.</td>\n",
       "      <td>2.586190e+10</td>\n",
       "      <td>Health Care</td>\n",
       "      <td>Major Pharmaceuticals</td>\n",
       "      <td>2014</td>\n",
       "      <td>2014-12-31</td>\n",
       "      <td>178.205001</td>\n",
       "      <td>0.071014</td>\n",
       "      <td>0.198969</td>\n",
       "      <td>0.140364</td>\n",
       "      <td>0.0498</td>\n",
       "      <td>0.03848</td>\n",
       "      <td>0.294</td>\n",
       "      <td>0.2170</td>\n",
       "      <td>53.676205</td>\n",
       "      <td>0.4400</td>\n",
       "    </tr>\n",
       "    <tr>\n",
       "      <th>3</th>\n",
       "      <td>ALXN</td>\n",
       "      <td>Alexion Pharmaceuticals, Inc.</td>\n",
       "      <td>2.586190e+10</td>\n",
       "      <td>Health Care</td>\n",
       "      <td>Major Pharmaceuticals</td>\n",
       "      <td>2013</td>\n",
       "      <td>2013-12-31</td>\n",
       "      <td>165.380005</td>\n",
       "      <td>0.379490</td>\n",
       "      <td>0.106166</td>\n",
       "      <td>0.186330</td>\n",
       "      <td>0.0610</td>\n",
       "      <td>0.03168</td>\n",
       "      <td>0.163</td>\n",
       "      <td>0.3108</td>\n",
       "      <td>128.201554</td>\n",
       "      <td>0.3679</td>\n",
       "    </tr>\n",
       "    <tr>\n",
       "      <th>4</th>\n",
       "      <td>ALXN</td>\n",
       "      <td>Alexion Pharmaceuticals, Inc.</td>\n",
       "      <td>2.586190e+10</td>\n",
       "      <td>Health Care</td>\n",
       "      <td>Major Pharmaceuticals</td>\n",
       "      <td>2012</td>\n",
       "      <td>2012-12-31</td>\n",
       "      <td>102.195000</td>\n",
       "      <td>0.087088</td>\n",
       "      <td>0.129295</td>\n",
       "      <td>0.191938</td>\n",
       "      <td>0.0756</td>\n",
       "      <td>0.13626</td>\n",
       "      <td>0.225</td>\n",
       "      <td>0.3038</td>\n",
       "      <td>76.264925</td>\n",
       "      <td>0.4476</td>\n",
       "    </tr>\n",
       "  </tbody>\n",
       "</table>\n",
       "</div>"
      ],
      "text/plain": [
       "  Symbol                           Name     MarketCap       Sector  \\\n",
       "0   ALXN  Alexion Pharmaceuticals, Inc.  2.586190e+10  Health Care   \n",
       "1   ALXN  Alexion Pharmaceuticals, Inc.  2.586190e+10  Health Care   \n",
       "2   ALXN  Alexion Pharmaceuticals, Inc.  2.586190e+10  Health Care   \n",
       "3   ALXN  Alexion Pharmaceuticals, Inc.  2.586190e+10  Health Care   \n",
       "4   ALXN  Alexion Pharmaceuticals, Inc.  2.586190e+10  Health Care   \n",
       "\n",
       "                Industry  Year        Date  Median_Quote  Median_Q_Growth  \\\n",
       "0  Major Pharmaceuticals  2016  2016-12-31    127.809998        -0.035013   \n",
       "1  Major Pharmaceuticals  2015  2015-12-31    132.429993        -0.345654   \n",
       "2  Major Pharmaceuticals  2014  2014-12-31    178.205001         0.071014   \n",
       "3  Major Pharmaceuticals  2013  2013-12-31    165.380005         0.379490   \n",
       "4  Major Pharmaceuticals  2012  2012-12-31    102.195000         0.087088   \n",
       "\n",
       "        ROE    ROE_5Y  DEratio  DEratio_5Y  Profit_Margin  Profit_Margin_5Y  \\\n",
       "0  0.045894  0.099552   0.3782     0.19940          0.129            0.1732   \n",
       "1  0.017436  0.121280   0.4324     0.12376          0.055            0.1922   \n",
       "2  0.198969  0.140364   0.0498     0.03848          0.294            0.2170   \n",
       "3  0.106166  0.186330   0.0610     0.03168          0.163            0.3108   \n",
       "4  0.129295  0.191938   0.0756     0.13626          0.225            0.3038   \n",
       "\n",
       "      PEratio  Revenue_Growth  \n",
       "0   71.803370          0.1843  \n",
       "1  194.749990          0.1656  \n",
       "2   53.676205          0.4400  \n",
       "3  128.201554          0.3679  \n",
       "4   76.264925          0.4476  "
      ]
     },
     "execution_count": 12,
     "metadata": {},
     "output_type": "execute_result"
    }
   ],
   "source": [
    "data = pd.read_csv(\"../results/stock_data_clean.csv\")\n",
    "data.head()"
   ]
  },
  {
   "cell_type": "code",
   "execution_count": 4,
   "metadata": {},
   "outputs": [
    {
     "data": {
      "text/plain": [
       "Index(['Symbol', 'Name', 'MarketCap', 'Sector', 'Industry', 'Year', 'Date',\n",
       "       'Median_Quote', 'Median_Q_Growth', 'ROE', 'ROE_5Y', 'DEratio',\n",
       "       'DEratio_5Y', 'Profit_Margin', 'Profit_Margin_5Y', 'PEratio',\n",
       "       'Revenue_Growth'],\n",
       "      dtype='object')"
      ]
     },
     "execution_count": 4,
     "metadata": {},
     "output_type": "execute_result"
    }
   ],
   "source": [
    "data.columns"
   ]
  },
  {
   "cell_type": "code",
   "execution_count": 13,
   "metadata": {},
   "outputs": [
    {
     "data": {
      "image/png": "[encoded data removed]",
      "text/plain": [
       "<matplotlib.figure.Figure at 0x7fb91159c6a0>"
      ]
     },
     "metadata": {},
     "output_type": "display_data"
    }
   ],
   "source": [
    "plt.hist(data.Median_Q_Growth, bins=100)\n",
    "plt.xlim([-1, 1])\n",
    "plt.show()"
   ]
  },
  {
   "cell_type": "code",
   "execution_count": null,
   "metadata": {},
   "outputs": [],
   "source": []
  }
 ],
 "metadata": {
  "kernelspec": {
   "display_name": "Python 3",
   "language": "python",
   "name": "python3"
  },
  "language_info": {
   "codemirror_mode": {
    "name": "ipython",
    "version": 3
   },
   "file_extension": ".py",
   "mimetype": "text/x-python",
   "name": "python",
   "nbconvert_exporter": "python",
   "pygments_lexer": "ipython3",
   "version": "3.6.4"
  }
 },
 "nbformat": 4,
 "nbformat_minor": 2
}
