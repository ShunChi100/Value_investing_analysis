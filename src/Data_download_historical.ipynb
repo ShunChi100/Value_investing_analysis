{
 "cells": [
  {
   "cell_type": "markdown",
   "metadata": {},
   "source": [
    "# Data scraping from websites (public data)"
   ]
  },
  {
   "cell_type": "code",
   "execution_count": 2,
   "metadata": {
    "collapsed": true
   },
   "outputs": [],
   "source": [
    "import requests\n",
    "import pandas as pd\n",
    "import numpy as np\n",
    "import feather\n",
    "import time\n",
    "import datetime\n",
    "import re\n",
    "from IPython.core.interactiveshell import InteractiveShell\n",
    "InteractiveShell.ast_node_interactivity = \"last\"\n"
   ]
  },
  {
   "cell_type": "code",
   "execution_count": 3,
   "metadata": {},
   "outputs": [
    {
     "ename": "NameError",
     "evalue": "name 'feather' is not defined",
     "traceback": [
      "\u001b[0;31m---------------------------------------------------------------------------\u001b[0m",
      "\u001b[0;31mNameError\u001b[0m                                 Traceback (most recent call last)",
      "\u001b[0;32m<ipython-input-3-6b789d66546d>\u001b[0m in \u001b[0;36m<module>\u001b[0;34m()\u001b[0m\n\u001b[1;32m      1\u001b[0m \u001b[0;31m# read all stock symbols for analysis\u001b[0m\u001b[0;34m\u001b[0m\u001b[0;34m\u001b[0m\u001b[0m\n\u001b[0;32m----> 2\u001b[0;31m \u001b[0mtickers_TenBillion\u001b[0m \u001b[0;34m=\u001b[0m \u001b[0mfeather\u001b[0m\u001b[0;34m.\u001b[0m\u001b[0mread_dataframe\u001b[0m\u001b[0;34m(\u001b[0m\u001b[0;34m\"../data/data_Ticker/tickers_TenBillion.feather\"\u001b[0m\u001b[0;34m)\u001b[0m\u001b[0;34m\u001b[0m\u001b[0m\n\u001b[0m\u001b[1;32m      3\u001b[0m \u001b[0mtickers_TenBillion\u001b[0m \u001b[0;34m=\u001b[0m \u001b[0mpd\u001b[0m\u001b[0;34m.\u001b[0m\u001b[0mread_csv\u001b[0m\u001b[0;34m(\u001b[0m\u001b[0;34m\"../data/data_Ticker/tickers_TenBillion.csv\"\u001b[0m\u001b[0;34m)\u001b[0m\u001b[0;34m\u001b[0m\u001b[0m\n",
      "\u001b[0;31mNameError\u001b[0m: name 'feather' is not defined"
     ],
     "output_type": "error"
    }
   ],
   "source": [
    "# read all stock symbols for analysis\n",
    "tickers_TenBillion = feather.read_dataframe(\"../data/data_Ticker/tickers_TenBillion.feather\")\n",
    "tickers_TenBillion = pd.read_csv(\"../data/data_Ticker/tickers_TenBillion.csv\")"
   ]
  },
  {
   "cell_type": "markdown",
   "metadata": {},
   "source": [
    "### Download historical financial data from stockrow.com\n",
    "\n",
    "Ten years historical finanical data can be downloaded from [stockrow.com](stockrow.com)\n",
    "\n",
    "The following urls are sample links to five types of hitorical data\n",
    "\n",
    "* https://stockrow.com/api/companies/AAPL/financials.xlsx?dimension=MRY&section=Balance%20Sheet\n",
    "* https://stockrow.com/api/companies/AAPL/financials.xlsx?dimension=MRY&section=Income%20Statement\n",
    "* https://stockrow.com/api/companies/AAPL/financials.xlsx?dimension=MRY&section=Cash%20Flow\n",
    "* https://stockrow.com/api/companies/AAPL/financials.xlsx?dimension=MRY&section=Metrics\n",
    "* https://stockrow.com/api/companies/AAPL/financials.xlsx?dimension=MRY&section=Growth\n",
    "\n",
    "For _dimension=MR*_ , here MRY -> Annual data, MRQ -> Quarterly data"
   ]
  },
  {
   "cell_type": "code",
   "execution_count": 8,
   "metadata": {
    "collapsed": true
   },
   "outputs": [],
   "source": [
    "def download_financials(symbol, financial):\n",
    "    \"\"\"\n",
    "    Download financial data\n",
    "    \n",
    "    There are five financial sheets: Balance, Income, Cash, Metrics, Growth\n",
    "    \n",
    "    Inputs:\n",
    "    symbol: str that represent a stock symbol, e.g. \"AAPL\"\n",
    "    financial: str that represent a type of stock financial, e.g. \"Balance\"\n",
    "    \n",
    "    Outputs:\n",
    "    Write data into a file in data directory\n",
    "    \"\"\"\n",
    "    \n",
    "    # construct url\n",
    "    url_income = \"https://stockrow.com/api/companies/\"+symbol+\"/financials.xlsx?dimension=MRY&section=\"+financial\n",
    "    \n",
    "    # web scrapping\n",
    "    readdata = requests.get(url_income , allow_redirects = True)\n",
    "    \n",
    "    # write to a file\n",
    "    file = open(\"../data/data_financials/\"+symbol+\"_\"+financial.split(\"%\")[0]+\".xlsx\", 'wb')\n",
    "    file.write(readdata.content)\n",
    "    file.close()"
   ]
  },
  {
   "cell_type": "markdown",
   "metadata": {},
   "source": [
    "Download data by looping over all stock symbols that were selected with particular criteria."
   ]
  },
  {
   "cell_type": "code",
   "execution_count": 9,
   "metadata": {},
   "outputs": [
    {
     "name": "stdout",
     "output_type": "stream",
     "text": [
      "ADBE\n",
      "AMD\n",
      "ALXN\n",
      "ALGN\n"
     ]
    }
   ],
   "source": [
    "financial_list = [\"Income%20Statement\", \"Balance%20Sheet\", \"Cash%20Flow\", \"Metrics\", \"Growth\"]\n",
    "\n",
    "# download data\n",
    "for symbol in tickers_TenBillion.Symbol:\n",
    "    for financial in financial_list:\n",
    "        download_financials(symbol,financial)\n",
    "        #time.sleep(0.1)\n",
    "    print(symbol)"
   ]
  },
  {
   "cell_type": "markdown",
   "metadata": {},
   "source": [
    "### Obtain historical quotes from Yahoo Finance\n",
    "\n",
    "Historical price data in daily frequency can be downloaded from [Yahoo Finance](http://finance.yahoo.com).\n",
    "\n",
    "The following url is an example link to hitorical qoutes of AAPL\n",
    "\n",
    "https://query1.finance.yahoo.com/v7/finance/download/AAPL?period1=1167638400&period2=1510992000&interval=1d&events=history&crumb=SkLNFzvwnuu"
   ]
  },
  {
   "cell_type": "code",
   "execution_count": 10,
   "metadata": {
    "collapsed": true
   },
   "outputs": [],
   "source": [
    "# in yahoo finance, a cookie/crumb pair need to be find.\n",
    "\n",
    "def get_yahoo_crumb_cookie():\n",
    "    \"\"\"\n",
    "    Get Yahoo crumb cookie value.\n",
    "    \n",
    "    Original Source: https://pypi.python.org/pypi/fix-yahoo-finance\n",
    "    \"\"\"\n",
    "    res = requests.get('https://finance.yahoo.com/quote/SPY/history')\n",
    "    yahoo_cookie = res.cookies['B']\n",
    "    yahoo_crumb = None\n",
    "    pattern = re.compile('.*\"CrumbStore\":\\{\"crumb\":\"(?P<crumb>[^\"]+)\"\\}')\n",
    "    for line in res.text.splitlines():\n",
    "        m = pattern.match(line)\n",
    "        if m is not None:\n",
    "            yahoo_crumb = m.groupdict()['crumb']\n",
    "    return yahoo_cookie, yahoo_crumb\n",
    "cookie_tuple = get_yahoo_crumb_cookie()\n",
    "\n",
    "def download_historyPrice(symbol, start_Date = \"20060101\", end_Date = \"20171118\"):\n",
    "    \"\"\"\n",
    "    Download stock historical data\n",
    "    \n",
    "    Download data from Yahoo finance website\n",
    "    \n",
    "    Inputs:\n",
    "    symbol: str that represent a stock symbol, e.g. \"AAPL\"\n",
    "    start_Date: str that represent a date as format \"YYYYMMDD\"\n",
    "    end_Date: str that represent a date as format \"YYYYMMDD\"\n",
    "    \n",
    "    Outputs:\n",
    "    Write data into a file in data directory\n",
    "    \"\"\"\n",
    "    \n",
    "    start_Date_Unix = time.mktime(datetime.datetime.strptime(start_Date, \"%Y%m%d\").timetuple())\n",
    "    end_Date_Unix = time.mktime(datetime.datetime.strptime(end_Date, \"%Y%m%d\").timetuple())\n",
    "    \n",
    "    start_Date_Unix = str(int(start_Date_Unix))\n",
    "    end_Date_Unix = str(int(end_Date_Unix))\n",
    "    \n",
    "    \n",
    "    url_price = \"https://query1.finance.yahoo.com/v7/finance/download/\" \\\n",
    "                +symbol \\\n",
    "                +\"?period1=\"+start_Date_Unix \\\n",
    "                +\"&period2=\"+end_Date_Unix \\\n",
    "                +\"&interval=1d&events=history&crumb=\" \\\n",
    "                +cookie_tuple[1]\n",
    "    readdata = requests.get(url_price, allow_redirects = True, cookies={'B': cookie_tuple[0]})\n",
    "    file = open(\"../data/data_historyPrice/\"+symbol+\"_\"+\"historyPricefrom\"+start_Date+\"to\"+end_Date+\".csv\", 'wb')\n",
    "    file.write(readdata.content)\n",
    "    file.close()"
   ]
  },
  {
   "cell_type": "markdown",
   "metadata": {},
   "source": [
    "Download data by looping over all stock symbols that were selected with particular criteria."
   ]
  },
  {
   "cell_type": "code",
   "execution_count": 11,
   "metadata": {
    "collapsed": true
   },
   "outputs": [],
   "source": [
    "# get data for all symbols\n",
    "for symbol in tickers_TenBillion.Symbol:\n",
    "    download_historyPrice(symbol)\n",
    "    time.sleep(0.01)"
   ]
  }
 ],
 "metadata": {
  "kernelspec": {
   "display_name": "Python 3",
   "language": "python",
   "name": "python3"
  },
  "language_info": {
   "codemirror_mode": {
    "name": "ipython",
    "version": 3
   },
   "file_extension": ".py",
   "mimetype": "text/x-python",
   "name": "python",
   "nbconvert_exporter": "python",
   "pygments_lexer": "ipython3",
   "version": "3.6.1"
  }
 },
 "nbformat": 4,
 "nbformat_minor": 2
}
